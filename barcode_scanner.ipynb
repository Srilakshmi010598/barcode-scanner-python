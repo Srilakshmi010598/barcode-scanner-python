{
 "cells": [
  {
   "cell_type": "code",
   "execution_count": null,
   "metadata": {},
   "outputs": [],
   "source": [
    "import cv2\n",
    "import numpy as np\n",
    "from pyzbar.pyzbar import decode"
   ]
  },
  {
   "cell_type": "code",
   "execution_count": null,
   "metadata": {},
   "outputs": [],
   "source": [
    "#decoding barcode in an image\n",
    "img1=cv2.imread('image.jpg')\n",
    "for barcode in decode(img1):\n",
    "    print(barcode.data)\n",
    "    print(barcode.data.decode('utf-8'))\n",
    "    pts = np.array([barcode.polygon],np.int32)\n",
    "    pts = pts.reshape((-1,1,2))\n",
    "    cv2.polylines(img1,[pts],True,(0,255,0),5)\n",
    "    pts2=barcode.rect\n",
    "    cv2.putText(img1,barcode.data.decode('utf-8'),(pts2[0],pts2[1]),cv2.FONT_HERSHEY_SIMPLEX,0.5,(255,255,255),2)\n",
    "img1=cv2.resize(img1,(640,480))\n",
    "cv2.imshow('output',img1)\n",
    "cv2.waitKey(0)"
   ]
  },
  {
   "cell_type": "code",
   "execution_count": null,
   "metadata": {},
   "outputs": [],
   "source": [
    "#decoding barcode from a video\n",
    "cap = cv2.VideoCapture(0)\n",
    "cap.set(3,640)\n",
    "cap.set(4,480)\n",
    "cap.set(28,255)\n",
    "while(True):\n",
    "    success,img2 = cap.read()\n",
    "    for barcode in decode(img2):\n",
    "        print(barcode.data)\n",
    "        pts = np.array([barcode.polygon],np.int32)\n",
    "        pts = pts.reshape((-1,1,2))\n",
    "        cv2.polylines(img2,[pts],True,(0,255,0),5)\n",
    "        pts2=barcode.rect\n",
    "        cv2.putText(img2,barcode.data.decode('utf-8'),(pts2[0],pts2[1]),cv2.FONT_HERSHEY_SIMPLEX,0.5,(255,255,255),2)\n",
    "    cv2.imshow('output',img2)\n",
    "    cv2.waitKey(1)"
   ]
  },
  {
   "cell_type": "code",
   "execution_count": null,
   "metadata": {},
   "outputs": [],
   "source": []
  }
 ],
 "metadata": {
  "kernelspec": {
   "display_name": "Python 3",
   "language": "python",
   "name": "python3"
  },
  "language_info": {
   "codemirror_mode": {
    "name": "ipython",
    "version": 3
   },
   "file_extension": ".py",
   "mimetype": "text/x-python",
   "name": "python",
   "nbconvert_exporter": "python",
   "pygments_lexer": "ipython3",
   "version": "3.7.6"
  }
 },
 "nbformat": 4,
 "nbformat_minor": 4
}
